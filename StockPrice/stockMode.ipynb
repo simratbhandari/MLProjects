{
 "cells": [
  {
   "cell_type": "code",
   "execution_count": 35,
   "metadata": {},
   "outputs": [
    {
     "name": "stdout",
     "output_type": "stream",
     "text": [
      "Collecting yfinance\n",
      "  Downloading yfinance-0.2.12-py2.py3-none-any.whl (59 kB)\n",
      "     -------------------------------------- 59.2/59.2 KB 391.5 kB/s eta 0:00:00\n",
      "Requirement already satisfied: beautifulsoup4>=4.11.1 in c:\\users\\waleed\\appdata\\local\\programs\\python\\python38\\lib\\site-packages (from yfinance) (4.11.1)\n",
      "Collecting lxml>=4.9.1\n",
      "  Downloading lxml-4.9.2-cp38-cp38-win_amd64.whl (3.9 MB)\n",
      "     ---------------------------------------- 3.9/3.9 MB 2.2 MB/s eta 0:00:00\n",
      "Collecting appdirs>=1.4.4\n",
      "  Downloading appdirs-1.4.4-py2.py3-none-any.whl (9.6 kB)\n",
      "Requirement already satisfied: requests>=2.26 in c:\\users\\waleed\\appdata\\local\\programs\\python\\python38\\lib\\site-packages (from yfinance) (2.26.0)\n",
      "Collecting multitasking>=0.0.7\n",
      "  Downloading multitasking-0.0.11-py3-none-any.whl (8.5 kB)\n",
      "Requirement already satisfied: numpy>=1.16.5 in c:\\users\\waleed\\appdata\\local\\programs\\python\\python38\\lib\\site-packages (from yfinance) (1.19.5)\n",
      "Collecting frozendict>=2.3.4\n",
      "  Downloading frozendict-2.3.5-cp38-cp38-win_amd64.whl (35 kB)\n",
      "Requirement already satisfied: cryptography>=3.3.2 in c:\\users\\waleed\\appdata\\local\\programs\\python\\python38\\lib\\site-packages (from yfinance) (37.0.2)\n",
      "Requirement already satisfied: html5lib>=1.1 in c:\\users\\waleed\\appdata\\local\\programs\\python\\python38\\lib\\site-packages (from yfinance) (1.1)\n",
      "Collecting pytz>=2022.5\n",
      "  Downloading pytz-2022.7.1-py2.py3-none-any.whl (499 kB)\n",
      "     -------------------------------------- 499.4/499.4 KB 3.1 MB/s eta 0:00:00\n",
      "Requirement already satisfied: pandas>=1.3.0 in c:\\users\\waleed\\appdata\\local\\programs\\python\\python38\\lib\\site-packages (from yfinance) (1.3.5)\n",
      "Requirement already satisfied: soupsieve>1.2 in c:\\users\\waleed\\appdata\\local\\programs\\python\\python38\\lib\\site-packages (from beautifulsoup4>=4.11.1->yfinance) (2.3.2.post1)\n",
      "Requirement already satisfied: cffi>=1.12 in c:\\users\\waleed\\appdata\\local\\programs\\python\\python38\\lib\\site-packages (from cryptography>=3.3.2->yfinance) (1.15.0)\n",
      "Requirement already satisfied: six>=1.9 in c:\\users\\waleed\\appdata\\local\\programs\\python\\python38\\lib\\site-packages (from html5lib>=1.1->yfinance) (1.16.0)\n",
      "Requirement already satisfied: webencodings in c:\\users\\waleed\\appdata\\local\\programs\\python\\python38\\lib\\site-packages (from html5lib>=1.1->yfinance) (0.5.1)\n",
      "Requirement already satisfied: python-dateutil>=2.7.3 in c:\\users\\waleed\\appdata\\local\\programs\\python\\python38\\lib\\site-packages (from pandas>=1.3.0->yfinance) (2.8.2)\n",
      "Requirement already satisfied: urllib3<1.27,>=1.21.1 in c:\\users\\waleed\\appdata\\local\\programs\\python\\python38\\lib\\site-packages (from requests>=2.26->yfinance) (1.26.7)\n",
      "Requirement already satisfied: idna<4,>=2.5 in c:\\users\\waleed\\appdata\\local\\programs\\python\\python38\\lib\\site-packages (from requests>=2.26->yfinance) (3.3)\n",
      "Requirement already satisfied: charset-normalizer~=2.0.0 in c:\\users\\waleed\\appdata\\local\\programs\\python\\python38\\lib\\site-packages (from requests>=2.26->yfinance) (2.0.9)\n",
      "Requirement already satisfied: certifi>=2017.4.17 in c:\\users\\waleed\\appdata\\local\\programs\\python\\python38\\lib\\site-packages (from requests>=2.26->yfinance) (2021.10.8)\n",
      "Requirement already satisfied: pycparser in c:\\users\\waleed\\appdata\\local\\programs\\python\\python38\\lib\\site-packages (from cffi>=1.12->cryptography>=3.3.2->yfinance) (2.21)\n",
      "Installing collected packages: pytz, multitasking, appdirs, lxml, frozendict, yfinance\n",
      "  Attempting uninstall: pytz\n",
      "    Found existing installation: pytz 2021.3\n",
      "    Uninstalling pytz-2021.3:\n",
      "      Successfully uninstalled pytz-2021.3\n",
      "  Attempting uninstall: lxml\n",
      "    Found existing installation: lxml 4.8.0\n",
      "    Uninstalling lxml-4.8.0:\n",
      "      Successfully uninstalled lxml-4.8.0\n",
      "Successfully installed appdirs-1.4.4 frozendict-2.3.5 lxml-4.9.2 multitasking-0.0.11 pytz-2022.7.1 yfinance-0.2.12\n"
     ]
    },
    {
     "name": "stderr",
     "output_type": "stream",
     "text": [
      "ERROR: pip's dependency resolver does not currently take into account all the packages that are installed. This behaviour is the source of the following dependency conflicts.\n",
      "rasa 3.1.0 requires packaging<21.0,>=20.0, but you have packaging 21.3 which is incompatible.\n",
      "rasa 3.1.0 requires pytz<2022.0,>=2019.1, but you have pytz 2022.7.1 which is incompatible.\n",
      "rasa 3.1.0 requires typing-extensions<4.0.0,>=3.7.4, but you have typing-extensions 4.2.0 which is incompatible.\n",
      "WARNING: You are using pip version 22.0.4; however, version 23.0 is available.\n",
      "You should consider upgrading via the 'c:\\users\\waleed\\appdata\\local\\programs\\python\\python38\\python.exe -m pip install --upgrade pip' command.\n"
     ]
    }
   ],
   "source": [
    "!pip install yfinance"
   ]
  },
  {
   "cell_type": "code",
   "execution_count": 2,
   "metadata": {},
   "outputs": [],
   "source": [
    "#Importing the required libraries\n",
    "\n",
    "import yfinance as yf\n",
    "import numpy as np\n",
    "import pandas as pd\n",
    "import matplotlib.pyplot as plt\n",
    "from sklearn.preprocessing import MinMaxScaler\n",
    "from keras.layers import Dropout\n",
    "from tensorflow.keras.models import Sequential\n",
    "from tensorflow.keras.layers import Dense, LSTM"
   ]
  },
  {
   "cell_type": "code",
   "execution_count": 1,
   "metadata": {},
   "outputs": [],
   "source": [
    "import datetime"
   ]
  },
  {
   "cell_type": "code",
   "execution_count": 3,
   "metadata": {},
   "outputs": [],
   "source": [
    "# Get user input for stock symbol and prediction end date\n",
    "stock_name = input(\"Enter stock symbol: \")\n",
    "\n",
    "# pred_end_date = input(\"Enter prediction end date (yyyy-mm-dd): \")\n",
    "\n",
    "# Get the current date\n",
    "current_date = datetime.datetime.now().date()\n",
    "\n",
    "# Subtract one day to get the end date\n",
    "pred_end_date = current_date - datetime.timedelta(days=1)\n",
    "\n",
    "# Convert the date to a string in the yyyy-mm-dd format\n",
    "pred_end_date_str = pred_end_date.strftime('%Y-%m-%d')"
   ]
  },
  {
   "cell_type": "code",
   "execution_count": 4,
   "metadata": {},
   "outputs": [
    {
     "name": "stdout",
     "output_type": "stream",
     "text": [
      "[*********************100%***********************]  1 of 1 completed\n"
     ]
    }
   ],
   "source": [
    "# Download historical data\n",
    "df = yf.download(stock_name, start=\"2015-01-01\", end=pred_end_date_str)\n",
    "\n",
    "# Preprocessing data\n",
    "data = df.filter(['Close'])\n",
    "dataset = data.values\n",
    "training_data_len = int(np.ceil(len(dataset) * 0.8)) # 80% training data"
   ]
  },
  {
   "cell_type": "code",
   "execution_count": 5,
   "metadata": {},
   "outputs": [],
   "source": [
    "# Scaling data\n",
    "scaler = MinMaxScaler(feature_range=(0, 1))\n",
    "scaled_data = scaler.fit_transform(dataset)"
   ]
  },
  {
   "cell_type": "code",
   "execution_count": 6,
   "metadata": {},
   "outputs": [],
   "source": [
    "# Create training dataset\n",
    "train_data = scaled_data[0:training_data_len, :]"
   ]
  },
  {
   "cell_type": "code",
   "execution_count": 7,
   "metadata": {},
   "outputs": [],
   "source": [
    "# Split data into x_train and y_train\n",
    "x_train = []\n",
    "y_train = []\n",
    "for i in range(60, len(train_data)):\n",
    "    x_train.append(train_data[i-60:i, 0])\n",
    "    y_train.append(train_data[i, 0])"
   ]
  },
  {
   "cell_type": "code",
   "execution_count": 8,
   "metadata": {},
   "outputs": [],
   "source": [
    "# Convert x_train and y_train to numpy arrays\n",
    "x_train, y_train = np.array(x_train), np.array(y_train)\n",
    "\n",
    "# Reshape x_train data to be 3-dimensional\n",
    "x_train = np.reshape(x_train, (x_train.shape[0], x_train.shape[1], 1))\n"
   ]
  },
  {
   "cell_type": "code",
   "execution_count": 9,
   "metadata": {},
   "outputs": [],
   "source": [
    "# Build LSTM model\n",
    "model = Sequential()\n",
    "model.add(LSTM(128, return_sequences=True, input_shape=(x_train.shape[1], 1)))\n",
    "model.add(Dropout(0.2))\n",
    "model.add(LSTM(64, return_sequences=True))\n",
    "model.add(Dropout(0.2))\n",
    "model.add(LSTM(32))\n",
    "model.add(Dense(1))"
   ]
  },
  {
   "cell_type": "code",
   "execution_count": 10,
   "metadata": {},
   "outputs": [],
   "source": [
    "# Compile model\n",
    "model.compile(optimizer='adam', loss='mean_squared_error')"
   ]
  },
  {
   "cell_type": "code",
   "execution_count": 19,
   "metadata": {},
   "outputs": [
    {
     "name": "stdout",
     "output_type": "stream",
     "text": [
      "Epoch 1/2\n",
      "395/395 [==============================] - 33s 73ms/step - loss: 3.4007e-04\n",
      "Epoch 2/2\n",
      "395/395 [==============================] - 28s 70ms/step - loss: 2.9868e-04\n"
     ]
    },
    {
     "data": {
      "text/plain": [
       "<keras.callbacks.History at 0x1f0c84f9040>"
      ]
     },
     "execution_count": 19,
     "metadata": {},
     "output_type": "execute_result"
    }
   ],
   "source": [
    "# Train model\n",
    "model.fit(x_train, y_train, batch_size=4, epochs=2)\n"
   ]
  },
  {
   "cell_type": "code",
   "execution_count": 20,
   "metadata": {},
   "outputs": [],
   "source": [
    "# Create testing dataset\n",
    "test_data = scaled_data[training_data_len - 60: , :]\n"
   ]
  },
  {
   "cell_type": "code",
   "execution_count": 21,
   "metadata": {},
   "outputs": [],
   "source": [
    "# Split data into x_test and y_test\n",
    "x_test = []\n",
    "y_test = dataset[training_data_len:, :]\n",
    "for i in range(60, len(test_data)):\n",
    "    x_test.append(test_data[i-60:i, 0])\n",
    "\n",
    "# Convert x_test to numpy array\n",
    "x_test = np.array(x_test)"
   ]
  },
  {
   "cell_type": "code",
   "execution_count": 22,
   "metadata": {},
   "outputs": [],
   "source": [
    "# Reshape x_test data to be 3-dimensional\n",
    "x_test = np.reshape(x_test, (x_test.shape[0], x_test.shape[1], 1))\n"
   ]
  },
  {
   "cell_type": "code",
   "execution_count": 23,
   "metadata": {},
   "outputs": [
    {
     "name": "stdout",
     "output_type": "stream",
     "text": [
      "Predicted stock prices of AAPL for the next 30 days:\n",
      "2023-02-17: 133.1282196044922\n",
      "2023-02-18: 133.97698974609375\n",
      "2023-02-19: 135.0436553955078\n",
      "2023-02-20: 136.069580078125\n",
      "2023-02-21: 137.03555297851562\n",
      "2023-02-22: 137.8191680908203\n",
      "2023-02-23: 138.4554901123047\n",
      "2023-02-24: 139.16209411621094\n",
      "2023-02-25: 139.84954833984375\n",
      "2023-02-26: 140.31500244140625\n",
      "2023-02-27: 140.30433654785156\n",
      "2023-02-28: 140.16238403320312\n",
      "2023-03-01: 139.9698486328125\n",
      "2023-03-02: 139.88076782226562\n",
      "2023-03-03: 140.01673889160156\n",
      "2023-03-04: 140.3446807861328\n",
      "2023-03-05: 140.62442016601562\n",
      "2023-03-06: 140.68540954589844\n",
      "2023-03-07: 140.59942626953125\n",
      "2023-03-08: 140.45127868652344\n",
      "2023-03-09: 140.27708435058594\n",
      "2023-03-10: 140.22947692871094\n",
      "2023-03-11: 140.27748107910156\n",
      "2023-03-12: 140.388427734375\n",
      "2023-03-13: 140.46502685546875\n",
      "2023-03-14: 140.4878692626953\n",
      "2023-03-15: 140.4364776611328\n",
      "2023-03-16: 140.3534393310547\n",
      "2023-03-17: 140.45550537109375\n",
      "2023-03-18: 140.7266845703125\n"
     ]
    }
   ],
   "source": [
    "# Get model's predicted price values\n",
    "predictions = model.predict(x_test)\n",
    "predictions = scaler.inverse_transform(predictions)\n",
    "\n",
    "# Get dates for the next 30 days\n",
    "future_dates = pd.date_range(start=pred_end_date, periods=30)\n",
    "\n",
    "# Print predicted stock prices for next 30 days with dates\n",
    "print(f'Predicted stock prices of {stock_name} for the next 30 days:')\n",
    "for i in range(len(predictions)):\n",
    "    if i >= 30:\n",
    "        break\n",
    "    print(f'{future_dates[i].date()}: {predictions[i][0]}')\n",
    "\n",
    "\n",
    "\n",
    "# Calculate root mean squared error\n",
    "rmse = np.sqrt(np.mean(predictions - y_test)**2)"
   ]
  },
  {
   "cell_type": "code",
   "execution_count": 24,
   "metadata": {},
   "outputs": [
    {
     "name": "stdout",
     "output_type": "stream",
     "text": [
      "Predicted stock price of AAPL for 2023-03-19: 133.1282196044922\n"
     ]
    }
   ],
   "source": [
    "pred_date = input(\"Enter prediction date (yyyy-mm-dd): \")\n",
    "# Print predicted stock price for given date\n",
    "print(f\"Predicted stock price of {stock_name} for {pred_date}: {predictions[0][0]}\")"
   ]
  },
  {
   "cell_type": "code",
   "execution_count": 25,
   "metadata": {},
   "outputs": [
    {
     "name": "stderr",
     "output_type": "stream",
     "text": [
      "C:\\Users\\Waleed\\AppData\\Local\\Temp/ipykernel_2672/146613757.py:4: SettingWithCopyWarning: \n",
      "A value is trying to be set on a copy of a slice from a DataFrame.\n",
      "Try using .loc[row_indexer,col_indexer] = value instead\n",
      "\n",
      "See the caveats in the documentation: https://pandas.pydata.org/pandas-docs/stable/user_guide/indexing.html#returning-a-view-versus-a-copy\n",
      "  valid['Predictions'] = predictions\n"
     ]
    },
    {
     "data": {
      "image/png": "[encoded data removed]",
      "text/plain": [
       "<Figure size 1152x576 with 1 Axes>"
      ]
     },
     "metadata": {
      "needs_background": "light"
     },
     "output_type": "display_data"
    }
   ],
   "source": [
    "# Plot actual and predicted stock prices\n",
    "train = data[:training_data_len]\n",
    "valid = data[training_data_len:]\n",
    "valid['Predictions'] = predictions\n",
    "plt.figure(figsize=(16,8))\n",
    "plt.title('Model')\n",
    "plt.xlabel('Date', fontsize=18)\n",
    "plt.ylabel('Close Price', fontsize=18)\n",
    "plt.plot(train['Close'])\n",
    "plt.plot(valid[['Close', 'Predictions']])\n",
    "plt.legend(['Train', 'Valid', 'Predictions'], loc='lower right')\n",
    "plt.show()"
   ]
  },
  {
   "cell_type": "code",
   "execution_count": 29,
   "metadata": {},
   "outputs": [
    {
     "name": "stdout",
     "output_type": "stream",
     "text": [
      "                 Close  Predictions\n",
      "Date                               \n",
      "2021-07-06  142.020004   133.128220\n",
      "2021-07-07  144.570007   133.976990\n",
      "2021-07-08  143.240005   135.043655\n",
      "2021-07-09  145.110001   136.069580\n",
      "2021-07-12  144.500000   137.035553\n",
      "...                ...          ...\n",
      "2023-02-10  151.009995   143.768890\n",
      "2023-02-13  153.850006   143.894287\n",
      "2023-02-14  153.199997   143.995361\n",
      "2023-02-15  155.330002   144.093857\n",
      "2023-02-16  153.710007   144.327148\n",
      "\n",
      "[409 rows x 2 columns]\n"
     ]
    }
   ],
   "source": [
    "print(valid[['Close', 'Predictions']])"
   ]
  }
 ],
 "metadata": {
  "kernelspec": {
   "display_name": "Python 3",
   "language": "python",
   "name": "python3"
  },
  "language_info": {
   "codemirror_mode": {
    "name": "ipython",
    "version": 3
   },
   "file_extension": ".py",
   "mimetype": "text/x-python",
   "name": "python",
   "nbconvert_exporter": "python",
   "pygments_lexer": "ipython3",
   "version": "3.8.10"
  },
  "orig_nbformat": 4,
  "vscode": {
   "interpreter": {
    "hash": "2d7d4e9f13a6eab9f50b49ff3bd20338fbd4c06c54136b36b7db0b5a45e9efc5"
   }
  }
 },
 "nbformat": 4,
 "nbformat_minor": 2
}
