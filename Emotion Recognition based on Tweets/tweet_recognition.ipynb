{
 "cells": [
  {
   "cell_type": "code",
   "execution_count": 2,
   "metadata": {},
   "outputs": [],
   "source": [
    "import tensorflow as tf\n",
    "from tensorflow import keras\n",
    "import numpy as np\n",
    "import matplotlib.pyplot as plt\n",
    "import random\n",
    "import nlp"
   ]
  },
  {
   "cell_type": "code",
   "execution_count": 4,
   "metadata": {},
   "outputs": [],
   "source": [
    "def show_history(h):\n",
    "    epochs_trained= len(h.history['loss'])\n",
    "    plt.figure(figsize=(16,6))\n",
    "    plt.subplot(1,2,1)\n",
    "    plt.plot(range(0,epochs_trained),h.history.get('accuracy'),label='Training')\n",
    "    plt.plot(range(0,epochs_trained),h.history.get('val_accuracy'),label='Validation')\n",
    "    plt.ylim([0.,1.])\n",
    "    plt.xlabel('Epochs')\n",
    "    plt.ylabel('Loss')\n",
    "    plt.legend()\n",
    "\n",
    "    plt.subplot(1,2,2)\n",
    "    plt.plot(range(0,epochs_trained),h.history.get('loss'),label='Training')\n",
    "    plt.plot(range(0,epochs_trained),h.history.get('val_loss'),label='Validation')\n",
    "    plt.xlabel('Epochs')\n",
    "    plt.ylabel('Loss')\n",
    "    plt.legend()\n",
    "    plt.show()\n",
    "\n",
    "def show_confusion_matrix(y_true, y_pred,classes):\n",
    "    from sklearn.metrics import confusion_matrix\n",
    "\n",
    "    # Compute confusion matrix\n",
    "    cm= confusion_matrix(y_true, y_pred,normalize='true')\n",
    "    plt.figure(figsize=(8,8))\n",
    "    sp=plt.subplot(1,1,1)\n",
    "    cpx=sp.matshow(cm)\n",
    "    plt.xticks(list(range(0,6)),labels=classes)\n",
    "    plt.yticks(list(range(0,6)),labels=classes)\n",
    "    plt.colorbar(cpx)\n",
    "    plt.show()"
   ]
  },
  {
   "cell_type": "code",
   "execution_count": 5,
   "metadata": {},
   "outputs": [
    {
     "name": "stderr",
     "output_type": "stream",
     "text": [
      "Using custom data configuration default\n"
     ]
    }
   ],
   "source": [
    "#import dataset from hugginface using nlp library \n",
    "dataset = nlp.load_dataset('emotion')"
   ]
  },
  {
   "cell_type": "code",
   "execution_count": 6,
   "metadata": {},
   "outputs": [
    {
     "data": {
      "text/plain": [
       "{'train': Dataset(features: {'text': Value(dtype='string', id=None), 'label': Value(dtype='string', id=None)}, num_rows: 16000),\n",
       " 'validation': Dataset(features: {'text': Value(dtype='string', id=None), 'label': Value(dtype='string', id=None)}, num_rows: 2000),\n",
       " 'test': Dataset(features: {'text': Value(dtype='string', id=None), 'label': Value(dtype='string', id=None)}, num_rows: 2000)}"
      ]
     },
     "execution_count": 6,
     "metadata": {},
     "output_type": "execute_result"
    }
   ],
   "source": [
    "dataset"
   ]
  },
  {
   "cell_type": "code",
   "execution_count": 7,
   "metadata": {},
   "outputs": [],
   "source": [
    "train = dataset['train']\n",
    "test = dataset['test']\n",
    "val=dataset['validation']"
   ]
  },
  {
   "cell_type": "code",
   "execution_count": 8,
   "metadata": {},
   "outputs": [],
   "source": [
    "def get_data(dataset):\n",
    "    tweet = []\n",
    "    labels = []\n",
    "    for i in range(len(dataset)):\n",
    "        tweet.append(dataset[i]['text'])\n",
    "        labels.append(dataset[i]['label'])\n",
    "    return tweet,labels"
   ]
  },
  {
   "cell_type": "code",
   "execution_count": 9,
   "metadata": {},
   "outputs": [],
   "source": [
    "tweet,labels=get_data(train) "
   ]
  },
  {
   "cell_type": "code",
   "execution_count": 10,
   "metadata": {},
   "outputs": [
    {
     "data": {
      "text/plain": [
       "('i am ever feeling nostalgic about the fireplace i will know that it is still on the property',\n",
       " 'love')"
      ]
     },
     "execution_count": 10,
     "metadata": {},
     "output_type": "execute_result"
    }
   ],
   "source": [
    "tweet[3],labels[3]"
   ]
  },
  {
   "cell_type": "code",
   "execution_count": 11,
   "metadata": {},
   "outputs": [],
   "source": [
    "#Tokenizer task where we convert the text into tokens or numbers\n",
    "from tensorflow.keras.preprocessing.text import Tokenizer\n",
    "tokenizer = Tokenizer(num_words=10000,oov_token='<UNK>') #make a tokenizer with 10000 most commonly used words and the unknown word\n",
    "tokenizer.fit_on_texts(tweet)\n"
   ]
  },
  {
   "cell_type": "code",
   "execution_count": 12,
   "metadata": {},
   "outputs": [
    {
     "data": {
      "text/plain": [
       "[[2, 24, 165, 8, 665, 27, 6, 4158, 2, 59, 47, 9, 13, 22, 72, 30, 6, 3497]]"
      ]
     },
     "execution_count": 12,
     "metadata": {},
     "output_type": "execute_result"
    }
   ],
   "source": [
    "tokenizer.texts_to_sequences([tweet[3]]) #convert the tweet into a list of tokens"
   ]
  },
  {
   "cell_type": "code",
   "execution_count": 13,
   "metadata": {},
   "outputs": [
    {
     "data": {
      "image/png": "[encoded data removed]",
      "text/plain": [
       "<Figure size 432x288 with 1 Axes>"
      ]
     },
     "metadata": {
      "needs_background": "light"
     },
     "output_type": "display_data"
    }
   ],
   "source": [
    "#Padding and truncating\n",
    "\n",
    "lenghts = [len(t.split(' ')) for t in tweet]\n",
    "plt.hist(lenghts,bins=len(set(lenghts)))\n",
    "plt.show()\n"
   ]
  },
  {
   "cell_type": "code",
   "execution_count": 14,
   "metadata": {},
   "outputs": [],
   "source": [
    "maxlen = 50\n",
    "\n",
    "from tensorflow.keras.preprocessing.sequence import pad_sequences\n",
    "def get_sequences(tokenizer,tweets):\n",
    "    sequences = tokenizer.texts_to_sequences(tweets)\n",
    "    padded = pad_sequences (sequences,truncating='post',maxlen= maxlen,padding='post')\n",
    "    return padded"
   ]
  },
  {
   "cell_type": "code",
   "execution_count": 15,
   "metadata": {},
   "outputs": [
    {
     "data": {
      "text/plain": [
       "array([  2, 139,   3, 679,   0,   0,   0,   0,   0,   0,   0,   0,   0,\n",
       "         0,   0,   0,   0,   0,   0,   0,   0,   0,   0,   0,   0,   0,\n",
       "         0,   0,   0,   0,   0,   0,   0,   0,   0,   0,   0,   0,   0,\n",
       "         0,   0,   0,   0,   0,   0,   0,   0,   0,   0,   0])"
      ]
     },
     "execution_count": 15,
     "metadata": {},
     "output_type": "execute_result"
    }
   ],
   "source": [
    "padded_train_seq = get_sequences(tokenizer,tweet)\n",
    "padded_train_seq[0]"
   ]
  },
  {
   "cell_type": "code",
   "execution_count": 16,
   "metadata": {},
   "outputs": [
    {
     "name": "stdout",
     "output_type": "stream",
     "text": [
      "{'surprise', 'anger', 'fear', 'sadness', 'love', 'joy'}\n"
     ]
    },
    {
     "data": {
      "image/png": "[encoded data removed]",
      "text/plain": [
       "<Figure size 432x288 with 1 Axes>"
      ]
     },
     "metadata": {
      "needs_background": "light"
     },
     "output_type": "display_data"
    }
   ],
   "source": [
    "#preparing the labels\n",
    "classes = set(labels)\n",
    "print(classes)\n",
    "\n",
    "plt.hist(labels,bins=11)\n",
    "plt.show()"
   ]
  },
  {
   "cell_type": "code",
   "execution_count": 17,
   "metadata": {},
   "outputs": [],
   "source": [
    "#dictionary to convert classes to their numeric values\n",
    "class_to_index = dict((c,i) for i,c in enumerate(classes))\n",
    "index_to_class = dict((v,k) for k,v in class_to_index.items())"
   ]
  },
  {
   "cell_type": "code",
   "execution_count": 18,
   "metadata": {},
   "outputs": [
    {
     "data": {
      "text/plain": [
       "{'surprise': 0, 'anger': 1, 'fear': 2, 'sadness': 3, 'love': 4, 'joy': 5}"
      ]
     },
     "execution_count": 18,
     "metadata": {},
     "output_type": "execute_result"
    }
   ],
   "source": [
    "class_to_index"
   ]
  },
  {
   "cell_type": "code",
   "execution_count": 19,
   "metadata": {},
   "outputs": [
    {
     "data": {
      "text/plain": [
       "{0: 'surprise', 1: 'anger', 2: 'fear', 3: 'sadness', 4: 'love', 5: 'joy'}"
      ]
     },
     "execution_count": 19,
     "metadata": {},
     "output_type": "execute_result"
    }
   ],
   "source": [
    "index_to_class"
   ]
  },
  {
   "cell_type": "code",
   "execution_count": 20,
   "metadata": {},
   "outputs": [
    {
     "name": "stdout",
     "output_type": "stream",
     "text": [
      "3\n"
     ]
    }
   ],
   "source": [
    "names_to_ids = lambda labels: np.array([class_to_index[l] for l in labels])\n",
    "\n",
    "train_labels = names_to_ids(labels)\n",
    "print(train_labels[0])"
   ]
  },
  {
   "cell_type": "code",
   "execution_count": 21,
   "metadata": {},
   "outputs": [],
   "source": [
    "#creating the model\n",
    "model = tf.keras.models.Sequential([\n",
    "    tf.keras.layers.Embedding(10000,16,input_length=maxlen),\n",
    "    tf.keras.layers.Bidirectional(tf.keras.layers.LSTM(20,return_sequences=True)),\n",
    "    tf.keras.layers.Bidirectional(tf.keras.layers.LSTM(20)),\n",
    "    tf.keras.layers.Dense(6,activation='softmax')\n",
    "])\n",
    "\n",
    "model.compile(optimizer='adam',loss='sparse_categorical_crossentropy',metrics=['accuracy'])"
   ]
  },
  {
   "cell_type": "code",
   "execution_count": 22,
   "metadata": {},
   "outputs": [
    {
     "name": "stdout",
     "output_type": "stream",
     "text": [
      "Model: \"sequential\"\n",
      "_________________________________________________________________\n",
      " Layer (type)                Output Shape              Param #   \n",
      "=================================================================\n",
      " embedding (Embedding)       (None, 50, 16)            160000    \n",
      "                                                                 \n",
      " bidirectional (Bidirectiona  (None, 50, 40)           5920      \n",
      " l)                                                              \n",
      "                                                                 \n",
      " bidirectional_1 (Bidirectio  (None, 40)               9760      \n",
      " nal)                                                            \n",
      "                                                                 \n",
      " dense (Dense)               (None, 6)                 246       \n",
      "                                                                 \n",
      "=================================================================\n",
      "Total params: 175,926\n",
      "Trainable params: 175,926\n",
      "Non-trainable params: 0\n",
      "_________________________________________________________________\n"
     ]
    }
   ],
   "source": [
    "model.summary()"
   ]
  },
  {
   "cell_type": "code",
   "execution_count": 23,
   "metadata": {},
   "outputs": [
    {
     "data": {
      "text/plain": [
       "('i feel like i am still looking at a blank canvas blank pieces of paper', 3)"
      ]
     },
     "execution_count": 23,
     "metadata": {},
     "output_type": "execute_result"
    }
   ],
   "source": [
    "#training the model\n",
    "\n",
    "val_tweets,val_labels = get_data(val)\n",
    "val_seq = get_sequences(tokenizer,val_tweets)\n",
    "val_labels = names_to_ids(val_labels)\n",
    "\n",
    "val_tweets[1],val_labels[1]"
   ]
  },
  {
   "cell_type": "code",
   "execution_count": 24,
   "metadata": {},
   "outputs": [
    {
     "name": "stdout",
     "output_type": "stream",
     "text": [
      "Epoch 1/10\n",
      "500/500 [==============================] - 16s 23ms/step - loss: 1.2405 - accuracy: 0.5227 - val_loss: 0.7568 - val_accuracy: 0.7255\n",
      "Epoch 2/10\n",
      "500/500 [==============================] - 10s 21ms/step - loss: 0.5078 - accuracy: 0.8239 - val_loss: 0.5328 - val_accuracy: 0.8115\n",
      "Epoch 3/10\n",
      "500/500 [==============================] - 11s 21ms/step - loss: 0.3050 - accuracy: 0.8960 - val_loss: 0.4783 - val_accuracy: 0.8360\n",
      "Epoch 4/10\n",
      "500/500 [==============================] - 12s 25ms/step - loss: 0.2292 - accuracy: 0.9237 - val_loss: 0.4593 - val_accuracy: 0.8495\n",
      "Epoch 5/10\n",
      "500/500 [==============================] - 12s 24ms/step - loss: 0.1799 - accuracy: 0.9413 - val_loss: 0.4304 - val_accuracy: 0.8615\n",
      "Epoch 6/10\n",
      "500/500 [==============================] - 12s 24ms/step - loss: 0.1364 - accuracy: 0.9564 - val_loss: 0.4281 - val_accuracy: 0.8750\n",
      "Epoch 7/10\n",
      "500/500 [==============================] - 12s 25ms/step - loss: 0.1126 - accuracy: 0.9622 - val_loss: 0.4201 - val_accuracy: 0.8745\n",
      "Epoch 8/10\n",
      "500/500 [==============================] - 12s 24ms/step - loss: 0.1074 - accuracy: 0.9659 - val_loss: 0.4613 - val_accuracy: 0.8725\n"
     ]
    }
   ],
   "source": [
    "h = model.fit(\n",
    "    padded_train_seq,train_labels,\n",
    "    validation_data=(val_seq,val_labels),\n",
    "    epochs=10,\n",
    "    callbacks=[\n",
    "        tf.keras.callbacks.EarlyStopping(monitor='val_accuracy',patience=2) #stop training if the validation accuracy does not improve after 2 epochs\n",
    "    ]\n",
    ")"
   ]
  },
  {
   "cell_type": "code",
   "execution_count": 27,
   "metadata": {},
   "outputs": [
    {
     "data": {
      "image/png": "[encoded data removed]",
      "text/plain": [
       "<Figure size 1152x432 with 2 Axes>"
      ]
     },
     "metadata": {
      "needs_background": "light"
     },
     "output_type": "display_data"
    }
   ],
   "source": [
    "#validating the model\n",
    "\n",
    "show_history(h)"
   ]
  },
  {
   "cell_type": "code",
   "execution_count": 28,
   "metadata": {},
   "outputs": [
    {
     "name": "stdout",
     "output_type": "stream",
     "text": [
      "63/63 [==============================] - 0s 6ms/step - loss: 0.4782 - accuracy: 0.8580\n"
     ]
    }
   ],
   "source": [
    "test_tweets,test_labels = get_data(test)\n",
    "test_seq = get_sequences(tokenizer,test_tweets)\n",
    "test_labels = names_to_ids(test_labels)\n",
    "\n",
    "_=model.evaluate(test_seq,test_labels)"
   ]
  },
  {
   "cell_type": "code",
   "execution_count": 29,
   "metadata": {},
   "outputs": [
    {
     "name": "stdout",
     "output_type": "stream",
     "text": [
      "Sentence:  im feeling so damn gloomy too\n",
      "Emotion:  sadness\n",
      "Predicted Emotion is:  sadness\n"
     ]
    }
   ],
   "source": [
    "i = random.randint(0,len(test_labels) - 1)\n",
    "print('Sentence: ',test_tweets[i])\n",
    "print ('Emotion: ',index_to_class[test_labels[i]])\n",
    "\n",
    "pred = model.predict(np.expand_dims(test_seq[i],axis=0))[0]\n",
    "pred_class = index_to_class[np.argmax(pred).astype('uint8')]\n",
    "\n",
    "print ('Predicted Emotion is: ',pred_class)\n",
    "\n",
    "model.save('model.h5')"
   ]
  }
 ],
 "metadata": {
  "interpreter": {
   "hash": "2d0ae2e28a60b2a0cc72eb882b596cf7a9c09214e55db343f6b09ee6c91211c3"
  },
  "kernelspec": {
   "display_name": "Python 3.8.10 64-bit",
   "name": "python3"
  },
  "language_info": {
   "codemirror_mode": {
    "name": "ipython",
    "version": 3
   },
   "file_extension": ".py",
   "mimetype": "text/x-python",
   "name": "python",
   "nbconvert_exporter": "python",
   "pygments_lexer": "ipython3",
   "version": "3.8.10"
  },
  "orig_nbformat": 4
 },
 "nbformat": 4,
 "nbformat_minor": 2
}
