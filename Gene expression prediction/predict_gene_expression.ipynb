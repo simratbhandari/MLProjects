{
 "cells": [
  {
   "cell_type": "code",
   "execution_count": 255,
   "metadata": {
    "collapsed": false
   },
   "outputs": [],
   "source": [
    "import pandas as pd\n",
    "import matplotlib.pyplot as plt  \n",
    "import seaborn as sns\n",
    "import numpy as np\n",
    "from IPython.display import Image \n",
    "from sklearn import cross_validation, ensemble, linear_model\n",
    "%matplotlib inline"
   ]
  },
  {
   "cell_type": "markdown",
   "metadata": {},
   "source": [
    "<h2>Predicting relative gene expression from other genomic features</h2>\n",
    "\n",
    "We will look at a data set that was compiled in order to understand which factors determine relative gene expression in developing mouse cortex and spinal cord. \n",
    "\n",
    "\n"
   ]
  },
  {
   "cell_type": "code",
   "execution_count": 256,
   "metadata": {
    "collapsed": false
   },
   "outputs": [],
   "source": [
    "data = pd.read_csv(\"gene_scores.csv\", index_col=0)"
   ]
  },
  {
   "cell_type": "markdown",
   "metadata": {},
   "source": [
    "Check what the data look like, and how big the data frame is."
   ]
  },
  {
   "cell_type": "code",
   "execution_count": 257,
   "metadata": {
    "collapsed": false
   },
   "outputs": [
    {
     "name": "stdout",
     "output_type": "stream",
     "text": [
      "                         ctx_dhs  ctx_footprint_no  ctx_sox2no  ctx_sox2score  \\\n",
      "ENSMUSG00000046593   2355.995772          0.816579    0.000000       0.000000   \n",
      "ENSMUSG00000037972   6248.353861          1.257967    1.579189      37.697030   \n",
      "ENSMUSG00000037973   2678.187637          0.000000    1.214106      21.523723   \n",
      "ENSMUSG00000053216  14688.977720         33.567085    5.317266     135.139718   \n",
      "ENSMUSG00000029510   6050.044463          3.454355    1.560680      15.087589   \n",
      "\n",
      "                         hox        lhx    log2fc    maxcons  meancons  \\\n",
      "ENSMUSG00000046593  0.241369   0.477784 -0.125293  14.294184  0.699185   \n",
      "ENSMUSG00000037972  0.447913   0.000000  0.119927  23.306562  0.911032   \n",
      "ENSMUSG00000037973  0.452227  10.677599 -1.029347  23.738959  3.452806   \n",
      "ENSMUSG00000053216  0.326184   4.992649 -0.625700  64.571973  7.681191   \n",
      "ENSMUSG00000029510  0.000000   4.460958  0.730771  32.447952  3.736538   \n",
      "\n",
      "                          sc_dhs  sc_footprint_no  sc_sox2no  sc_sox2score  \n",
      "ENSMUSG00000046593   1721.959893         0.874426   0.000000      0.000000  \n",
      "ENSMUSG00000037972   4697.475729         0.326459   0.579189     20.850813  \n",
      "ENSMUSG00000037973   1419.974254         0.000000   0.000000      0.000000  \n",
      "ENSMUSG00000053216  12665.480738        27.624816   2.326642     33.012300  \n",
      "ENSMUSG00000029510   5181.369592         4.487705   0.000000      0.000000  \n",
      "(4540, 13)\n"
     ]
    }
   ],
   "source": [
    "print(data.head())\n",
    "print(data.shape)"
   ]
  },
  {
   "cell_type": "markdown",
   "metadata": {},
   "source": [
    "We have 4540 examples (genes) and 13 values for each - 12 \"features\" and one \"target\" (the log2 fold change for each gene in spinal cord vs. cortex). \n",
    "\n",
    "\n"
   ]
  },
  {
   "cell_type": "code",
   "execution_count": 258,
   "metadata": {
    "collapsed": false
   },
   "outputs": [],
   "source": [
    "y = data['log2fc']\n",
    "X = data.drop(['log2fc'],1)"
   ]
  },
  {
   "cell_type": "code",
   "execution_count": 259,
   "metadata": {
    "collapsed": false
   },
   "outputs": [
    {
     "name": "stdout",
     "output_type": "stream",
     "text": [
      "ENSMUSG00000046593   -0.125293\n",
      "ENSMUSG00000037972    0.119927\n",
      "ENSMUSG00000037973   -1.029347\n",
      "ENSMUSG00000053216   -0.625700\n",
      "ENSMUSG00000029510    0.730771\n",
      "Name: log2fc, dtype: float64\n",
      "                         ctx_dhs  ctx_footprint_no  ctx_sox2no  ctx_sox2score  \\\n",
      "ENSMUSG00000046593   2355.995772          0.816579    0.000000       0.000000   \n",
      "ENSMUSG00000037972   6248.353861          1.257967    1.579189      37.697030   \n",
      "ENSMUSG00000037973   2678.187637          0.000000    1.214106      21.523723   \n",
      "ENSMUSG00000053216  14688.977720         33.567085    5.317266     135.139718   \n",
      "ENSMUSG00000029510   6050.044463          3.454355    1.560680      15.087589   \n",
      "\n",
      "                         hox        lhx    maxcons  meancons        sc_dhs  \\\n",
      "ENSMUSG00000046593  0.241369   0.477784  14.294184  0.699185   1721.959893   \n",
      "ENSMUSG00000037972  0.447913   0.000000  23.306562  0.911032   4697.475729   \n",
      "ENSMUSG00000037973  0.452227  10.677599  23.738959  3.452806   1419.974254   \n",
      "ENSMUSG00000053216  0.326184   4.992649  64.571973  7.681191  12665.480738   \n",
      "ENSMUSG00000029510  0.000000   4.460958  32.447952  3.736538   5181.369592   \n",
      "\n",
      "                    sc_footprint_no  sc_sox2no  sc_sox2score  \n",
      "ENSMUSG00000046593         0.874426   0.000000      0.000000  \n",
      "ENSMUSG00000037972         0.326459   0.579189     20.850813  \n",
      "ENSMUSG00000037973         0.000000   0.000000      0.000000  \n",
      "ENSMUSG00000053216        27.624816   2.326642     33.012300  \n",
      "ENSMUSG00000029510         4.487705   0.000000      0.000000  \n",
      "(4540,)\n",
      "(4540, 12)\n"
     ]
    }
   ],
   "source": [
    "print(y.head())\n",
    "print(X.head())\n",
    "print(y.shape)\n",
    "print(X.shape)"
   ]
  },
  {
   "cell_type": "markdown",
   "metadata": {},
   "source": [
    "Divide these into a training set and a test set."
   ]
  },
  {
   "cell_type": "code",
   "execution_count": 260,
   "metadata": {
    "collapsed": false
   },
   "outputs": [],
   "source": [
    "X_train, X_test, y_train, y_test = cross_validation.train_test_split(X, y, test_size=0.3, random_state=42)"
   ]
  },
  {
   "cell_type": "markdown",
   "metadata": {},
   "source": [
    "In turn, we can divide this \"training set\" into a training set and a validation set (which we will use to evaluate each predictive model)."
   ]
  },
  {
   "cell_type": "code",
   "execution_count": 261,
   "metadata": {
    "collapsed": true
   },
   "outputs": [],
   "source": [
    "X_tr, X_val, y_tr, y_val = cross_validation.train_test_split(X_train, y_train, test_size=0.3, random_state=53)"
   ]
  },
  {
   "cell_type": "markdown",
   "metadata": {},
   "source": [
    "How big are these different data sets now?"
   ]
  },
  {
   "cell_type": "code",
   "execution_count": 262,
   "metadata": {
    "collapsed": false
   },
   "outputs": [
    {
     "name": "stdout",
     "output_type": "stream",
     "text": [
      "Training:(2224, 12)\n",
      "Validation:(954, 12)\n",
      "Test:(1362, 12)\n"
     ]
    }
   ],
   "source": [
    "print(\"Training:\" + str(X_tr.shape))\n",
    "print(\"Validation:\" + str(X_val.shape))\n",
    "print(\"Test:\" + str(X_test.shape))"
   ]
  },
  {
   "cell_type": "markdown",
   "metadata": {},
   "source": [
    "<h4>Correlation heat map</h4>\n",
    "\n",
    "Are there any obvious correlations between the features?"
   ]
  },
  {
   "cell_type": "code",
   "execution_count": 263,
   "metadata": {
    "collapsed": false
   },
   "outputs": [
    {
     "data": {
      "text/plain": [
       "<matplotlib.axes._subplots.AxesSubplot at 0x112539350>"
      ]
     },
     "execution_count": 263,
     "metadata": {},
     "output_type": "execute_result"
    },
    {
     "data": {
      "image/png": "[encoded data removed]",
      "text/plain": [
       "<matplotlib.figure.Figure at 0x1118aaad0>"
      ]
     },
     "metadata": {},
     "output_type": "display_data"
    }
   ],
   "source": [
    "corrs = X.corr()\n",
    "sns.heatmap(corrs)"
   ]
  },
  {
   "cell_type": "markdown",
   "metadata": {},
   "source": [
    "The mean and maximum conservation scores are highly correlated, as are the Sox2 counts and scores. In fact this redundancy in features should make us think about dropping a few of them.\n",
    "\n",
    "<h4>Random forest regression</h4>\n",
    "\n",
    " "
   ]
  },
  {
   "cell_type": "code",
   "execution_count": 264,
   "metadata": {
    "collapsed": false
   },
   "outputs": [],
   "source": [
    "np.random.seed(23)\n",
    "rf = ensemble.RandomForestRegressor(n_estimators=500, oob_score=True, max_features='sqrt', max_depth=5)"
   ]
  },
  {
   "cell_type": "code",
   "execution_count": 265,
   "metadata": {
    "collapsed": true
   },
   "outputs": [],
   "source": [
    "# Build a random forest model for the training set\n",
    "rfit = rf.fit(X_tr, y_tr)"
   ]
  },
  {
   "cell_type": "markdown",
   "metadata": {},
   "source": [
    "<h4>Check performance and potential overfitting</h4>"
   ]
  },
  {
   "cell_type": "code",
   "execution_count": 266,
   "metadata": {
    "collapsed": false
   },
   "outputs": [
    {
     "name": "stdout",
     "output_type": "stream",
     "text": [
      "Training set variance score (R2): 0.29\n",
      "OOB set variance score (R2): 0.14\n",
      "Validation set variance score (R2): 0.16\n"
     ]
    }
   ],
   "source": [
    "print('Training set variance score (R2): %.2f' % rfit.score(X_tr, y_tr))\n",
    "print('OOB set variance score (R2): %.2f' % rfit.oob_score_)\n",
    "print('Validation set variance score (R2): %.2f' % rfit.score(X_val, y_val))"
   ]
  },
  {
   "cell_type": "markdown",
   "metadata": {},
   "source": [
    "<h4>Feature importance</h4>\n",
    "\n",
    "We can also get a measure of how important each feature is for prediction."
   ]
  },
  {
   "cell_type": "code",
   "execution_count": 267,
   "metadata": {
    "collapsed": true
   },
   "outputs": [],
   "source": [
    "def plot_feat_imp(model, feature_names):\n",
    "    feature_importance = model.feature_importances_\n",
    "    # make importances relative to max importance\n",
    "    feature_importance = 100.0 * (feature_importance / feature_importance.max())\n",
    "    sorted_idx = np.argsort(feature_importance)\n",
    "    pos = np.arange(sorted_idx.shape[0]) + .5\n",
    "    plt.subplot(1, 2, 2)\n",
    "    plt.barh(pos, feature_importance[sorted_idx], align='center')\n",
    "    plt.yticks(pos, feature_names[sorted_idx])\n",
    "    plt.xlabel('Relative Importance')\n",
    "    plt.title('Variable Importance')\n",
    "    plt.show()"
   ]
  },
  {
   "cell_type": "code",
   "execution_count": 268,
   "metadata": {
    "collapsed": false,
    "scrolled": true
   },
   "outputs": [
    {
     "data": {
      "image/png": "[encoded data removed]",
      "text/plain": [
       "<matplotlib.figure.Figure at 0x113de8ad0>"
      ]
     },
     "metadata": {},
     "output_type": "display_data"
    }
   ],
   "source": [
    "plot_feat_imp(rfit, X_tr.columns)"
   ]
  },
  {
   "cell_type": "markdown",
   "metadata": {},
   "source": [
    "<h4>Feature engineering</h4>"
   ]
  },
  {
   "cell_type": "markdown",
   "metadata": {},
   "source": [
    "Let's remove some redundant features and create new ones!"
   ]
  },
  {
   "cell_type": "code",
   "execution_count": 275,
   "metadata": {
    "collapsed": false
   },
   "outputs": [
    {
     "data": {
      "text/plain": [
       "array(['ctx_dhs', 'ctx_footprint_no', 'ctx_sox2no', 'ctx_sox2score', 'hox',\n",
       "       'lhx', 'maxcons', 'meancons', 'sc_dhs', 'sc_footprint_no',\n",
       "       'sc_sox2no', 'sc_sox2score'], dtype=object)"
      ]
     },
     "execution_count": 275,
     "metadata": {},
     "output_type": "execute_result"
    }
   ],
   "source": [
    "X.columns.values"
   ]
  },
  {
   "cell_type": "code",
   "execution_count": 276,
   "metadata": {
    "collapsed": false,
    "scrolled": true
   },
   "outputs": [
    {
     "name": "stdout",
     "output_type": "stream",
     "text": [
      "                         ctx_dhs  ctx_sox2score       hox        lhx  \\\n",
      "ENSMUSG00000046593   2355.995772       0.000000  0.241369   0.477784   \n",
      "ENSMUSG00000037972   6248.353861      37.697030  0.447913   0.000000   \n",
      "ENSMUSG00000037973   2678.187637      21.523723  0.452227  10.677599   \n",
      "ENSMUSG00000053216  14688.977720     135.139718  0.326184   4.992649   \n",
      "ENSMUSG00000029510   6050.044463      15.087589  0.000000   4.460958   \n",
      "\n",
      "                    meancons        sc_dhs  sc_sox2score  \n",
      "ENSMUSG00000046593  0.699185   1721.959893      0.000000  \n",
      "ENSMUSG00000037972  0.911032   4697.475729     20.850813  \n",
      "ENSMUSG00000037973  3.452806   1419.974254      0.000000  \n",
      "ENSMUSG00000053216  7.681191  12665.480738     33.012300  \n",
      "ENSMUSG00000029510  3.736538   5181.369592      0.000000  \n"
     ]
    }
   ],
   "source": [
    "X_new = X.drop(['ctx_footprint_no','ctx_sox2no', 'maxcons', 'sc_footprint_no','sc_sox2no'],1)\n",
    "print(X_new.head())"
   ]
  },
  {
   "cell_type": "markdown",
   "metadata": {},
   "source": [
    "We have removed some redundant features, we want to create a new feature which is the (log2) ratio between sc_dhs and ctx_dhs: two features that we have seen are informative. However, in order to avoid division by zero, we need to add some small value to each value in sc_dhs and ctx_dhs. In this case, we just add the smallest non-zero value for each."
   ]
  },
  {
   "cell_type": "code",
   "execution_count": 277,
   "metadata": {
    "collapsed": false
   },
   "outputs": [],
   "source": [
    "min_nonzero_ctx_dhs = min(X_new['ctx_dhs'][X_new['ctx_dhs']>0])\n",
    "min_nonzero_sc_dhs = min(X_new['sc_dhs'][X_new['sc_dhs']>0])\n",
    "dhs_fc = (X_new['sc_dhs']+min_nonzero_sc_dhs)/(X_new['ctx_dhs']+min_nonzero_ctx_dhs)\n",
    "\n",
    "# Create a new feature with the same idea\n",
    "min_nonzero_ctx_sox2score = min(X_new['ctx_sox2score'][X_new['ctx_sox2score']>0])\n",
    "min_nonzero_sc_sox2score = min(X_new['sc_sox2score'][X_new['sc_sox2score']>0])\n",
    "sox2score_fc = (X_new['sc_sox2score']+min_nonzero_sc_sox2score)/(X_new['ctx_sox2score']+min_nonzero_ctx_sox2score)"
   ]
  },
  {
   "cell_type": "code",
   "execution_count": 278,
   "metadata": {
    "collapsed": false
   },
   "outputs": [],
   "source": [
    "X_new['dhs_log2fc'] = map(np.log2, dhs_fc)\n",
    "X_new['sox2_log2fc'] = map(np.log2, sox2score_fc)\n"
   ]
  },
  {
   "cell_type": "code",
   "execution_count": 279,
   "metadata": {
    "collapsed": false
   },
   "outputs": [
    {
     "data": {
      "text/html": [
       "<div>\n",
       "<table border=\"1\" class=\"dataframe\">\n",
       "  <thead>\n",
       "    <tr style=\"text-align: right;\">\n",
       "      <th></th>\n",
       "      <th>ctx_dhs</th>\n",
       "      <th>ctx_sox2score</th>\n",
       "      <th>hox</th>\n",
       "      <th>lhx</th>\n",
       "      <th>meancons</th>\n",
       "      <th>sc_dhs</th>\n",
       "      <th>sc_sox2score</th>\n",
       "      <th>dhs_log2fc</th>\n",
       "      <th>sox2_log2fc</th>\n",
       "    </tr>\n",
       "  </thead>\n",
       "  <tbody>\n",
       "    <tr>\n",
       "      <th>ENSMUSG00000046593</th>\n",
       "      <td>2355.995772</td>\n",
       "      <td>0.000000</td>\n",
       "      <td>0.241369</td>\n",
       "      <td>0.477784</td>\n",
       "      <td>0.699185</td>\n",
       "      <td>1721.959893</td>\n",
       "      <td>0.000000</td>\n",
       "      <td>-0.444487</td>\n",
       "      <td>0.528619</td>\n",
       "    </tr>\n",
       "    <tr>\n",
       "      <th>ENSMUSG00000037972</th>\n",
       "      <td>6248.353861</td>\n",
       "      <td>37.697030</td>\n",
       "      <td>0.447913</td>\n",
       "      <td>0.000000</td>\n",
       "      <td>0.911032</td>\n",
       "      <td>4697.475729</td>\n",
       "      <td>20.850813</td>\n",
       "      <td>-0.408900</td>\n",
       "      <td>-0.835422</td>\n",
       "    </tr>\n",
       "    <tr>\n",
       "      <th>ENSMUSG00000037973</th>\n",
       "      <td>2678.187637</td>\n",
       "      <td>21.523723</td>\n",
       "      <td>0.452227</td>\n",
       "      <td>10.677599</td>\n",
       "      <td>3.452806</td>\n",
       "      <td>1419.974254</td>\n",
       "      <td>0.000000</td>\n",
       "      <td>-0.899794</td>\n",
       "      <td>-5.599843</td>\n",
       "    </tr>\n",
       "    <tr>\n",
       "      <th>ENSMUSG00000053216</th>\n",
       "      <td>14688.977720</td>\n",
       "      <td>135.139718</td>\n",
       "      <td>0.326184</td>\n",
       "      <td>4.992649</td>\n",
       "      <td>7.681191</td>\n",
       "      <td>12665.480738</td>\n",
       "      <td>33.012300</td>\n",
       "      <td>-0.213216</td>\n",
       "      <td>-2.017161</td>\n",
       "    </tr>\n",
       "    <tr>\n",
       "      <th>ENSMUSG00000029510</th>\n",
       "      <td>6050.044463</td>\n",
       "      <td>15.087589</td>\n",
       "      <td>0.000000</td>\n",
       "      <td>4.460958</td>\n",
       "      <td>3.736538</td>\n",
       "      <td>5181.369592</td>\n",
       "      <td>0.000000</td>\n",
       "      <td>-0.222061</td>\n",
       "      <td>-5.096048</td>\n",
       "    </tr>\n",
       "  </tbody>\n",
       "</table>\n",
       "</div>"
      ],
      "text/plain": [
       "                         ctx_dhs  ctx_sox2score       hox        lhx  \\\n",
       "ENSMUSG00000046593   2355.995772       0.000000  0.241369   0.477784   \n",
       "ENSMUSG00000037972   6248.353861      37.697030  0.447913   0.000000   \n",
       "ENSMUSG00000037973   2678.187637      21.523723  0.452227  10.677599   \n",
       "ENSMUSG00000053216  14688.977720     135.139718  0.326184   4.992649   \n",
       "ENSMUSG00000029510   6050.044463      15.087589  0.000000   4.460958   \n",
       "\n",
       "                    meancons        sc_dhs  sc_sox2score  dhs_log2fc  \\\n",
       "ENSMUSG00000046593  0.699185   1721.959893      0.000000   -0.444487   \n",
       "ENSMUSG00000037972  0.911032   4697.475729     20.850813   -0.408900   \n",
       "ENSMUSG00000037973  3.452806   1419.974254      0.000000   -0.899794   \n",
       "ENSMUSG00000053216  7.681191  12665.480738     33.012300   -0.213216   \n",
       "ENSMUSG00000029510  3.736538   5181.369592      0.000000   -0.222061   \n",
       "\n",
       "                    sox2_log2fc  \n",
       "ENSMUSG00000046593     0.528619  \n",
       "ENSMUSG00000037972    -0.835422  \n",
       "ENSMUSG00000037973    -5.599843  \n",
       "ENSMUSG00000053216    -2.017161  \n",
       "ENSMUSG00000029510    -5.096048  "
      ]
     },
     "execution_count": 279,
     "metadata": {},
     "output_type": "execute_result"
    }
   ],
   "source": [
    "X_new.head()"
   ]
  },
  {
   "cell_type": "markdown",
   "metadata": {},
   "source": [
    "<h4>Re-divide dataset</h4>"
   ]
  },
  {
   "cell_type": "code",
   "execution_count": 280,
   "metadata": {
    "collapsed": true
   },
   "outputs": [],
   "source": [
    "X_train, X_test, y_train, y_test = cross_validation.train_test_split(X_new, y, test_size=0.3, random_state=42)\n",
    "X_tr, X_val, y_tr, y_val = cross_validation.train_test_split(X_train, y_train, test_size=0.3, random_state=53)"
   ]
  },
  {
   "cell_type": "markdown",
   "metadata": {},
   "source": [
    "<h4>Random forest, lasso and gradient boosting on the new dataset</h4>"
   ]
  },
  {
   "cell_type": "code",
   "execution_count": 281,
   "metadata": {
    "collapsed": false
   },
   "outputs": [
    {
     "name": "stdout",
     "output_type": "stream",
     "text": [
      "Random forest training set variance score: 0.33\n",
      "Random forest validation set variance score: 0.21\n",
      "Lasso training set variance score: 0.15\n",
      "Lasso validation set variance score: 0.20\n",
      "Gradient boosting training set variance score: 0.67\n",
      "Gradient boosting validation set variance score: 0.22\n"
     ]
    }
   ],
   "source": [
    "rf = ensemble.RandomForestRegressor(n_estimators=500, oob_score=True, max_features='sqrt', max_depth=5)\n",
    "rf.fit(X_tr, y_tr)\n",
    "lm = linear_model.Lasso()\n",
    "lm.fit(X_tr, y_tr)\n",
    "clf = ensemble.GradientBoostingRegressor(**params)\n",
    "clf.fit(X_tr, y_tr)\n",
    "\n",
    "print('Random forest training set variance score: %.2f' % rf.score(X_tr, y_tr))\n",
    "print('Random forest validation set variance score: %.2f' % rf.score(X_val, y_val))\n",
    "print('Lasso training set variance score: %.2f' % lm.score(X_tr, y_tr))\n",
    "print('Lasso validation set variance score: %.2f' % lm.score(X_val, y_val))\n",
    "print('Gradient boosting training set variance score: %.2f' % clf.score(X_tr, y_tr))\n",
    "print('Gradient boosting validation set variance score: %.2f' % clf.score(X_val, y_val))"
   ]
  },
  {
   "cell_type": "markdown",
   "metadata": {},
   "source": [
    "Let's look at the most important parameters in the \"winning\" model."
   ]
  },
  {
   "cell_type": "code",
   "execution_count": 282,
   "metadata": {
    "collapsed": false
   },
   "outputs": [
    {
     "data": {
      "image/png": "[encoded data removed]",
      "text/plain": [
       "<matplotlib.figure.Figure at 0x116d93750>"
      ]
     },
     "metadata": {},
     "output_type": "display_data"
    }
   ],
   "source": [
    "plot_feat_imp(clf, X_tr.columns)"
   ]
  },
  {
   "cell_type": "markdown",
   "metadata": {},
   "source": [
    "Now for the final test: Will the model work on the held-out test set too?"
   ]
  },
  {
   "cell_type": "code",
   "execution_count": 283,
   "metadata": {
    "collapsed": false
   },
   "outputs": [
    {
     "name": "stdout",
     "output_type": "stream",
     "text": [
      "Test set variance score: 0.22\n"
     ]
    }
   ],
   "source": [
    "print('Test set variance score: %.2f' % rf.score(X_test, y_test))"
   ]
  }
 ],
 "metadata": {
  "kernelspec": {
   "display_name": "Python 2",
   "language": "python",
   "name": "python2"
  },
  "language_info": {
   "codemirror_mode": {
    "name": "ipython",
    "version": 2
   },
   "file_extension": ".py",
   "mimetype": "text/x-python",
   "name": "python",
   "nbconvert_exporter": "python",
   "pygments_lexer": "ipython2",
   "version": "2.7.10"
  }
 },
 "nbformat": 4,
 "nbformat_minor": 0
}
